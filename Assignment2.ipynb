{
 "cells": [
  {
   "cell_type": "markdown",
   "metadata": {},
   "source": [
    "# Assignment 2\n",
    " ### [정보]\n",
    " #### 1) Due Date: 2018년 10월 19일 (금), 23시 59분\n",
    " #### 2) 제출방법: jupyter notebook으로 작성된 내용을 github 또는 dropbox와 같은 클라우드에 올려 해당 URL을 다시 http://nbviewer.jupyter.org 에 넣어서 산출된 URL을 EL사이트에 제출함.\n",
    " #### 3) 내용: 반드시 python code와 수행 결과를 jupyter notebook 내에 작성하여 넣고 이에 대한 설명등을 해당 코드 아래에 markdown cell에 넣어 기입.\n",
    "#### 4) 숙제이후 소감: 문제를 모두 푼 이후에 현재까지 강의를 들은 이후의 소감, 숙제를 한 이후의 소감, 또는 전하고자 하는 말 등을 짧막하게라도 좋으니 마지막에 함께 작성하여 제출. \n",
    "\n",
    " ### 일반 연습 문제\n",
    "\n",
    " 1) 다음 6 개의 Expression에 대해 Evaluation 결과 값을 출력하고, 해당 결과가 나온 이유에 대해 설명하시오\n",
    "   - 1 and 2 and 3 and 4\n",
    "   - 1 or 2 or 3 or 4\n",
    "   - 1 and 2 or 3 and 4\n",
    "   - (1 and 2) or (3 and 4)\n",
    "   - 1 or 2 and 3 or 4\n",
    "   - (1 or 2) and (3 or 4)\n",
    " \n"
   ]
  },
  {
   "cell_type": "code",
   "execution_count": 3,
   "metadata": {},
   "outputs": [
    {
     "name": "stdout",
     "output_type": "stream",
     "text": [
      "4\n"
     ]
    }
   ],
   "source": [
    "print (1 and 2 and 3 and 4)"
   ]
  },
  {
   "cell_type": "markdown",
   "metadata": {},
   "source": [
    " - 파이썬에서 수치값은 진리값으로 표현되어 논리연산이 가능하다. 0은 False로 0이아닌 다른 수치 값은 True로 Evaluation된다. 위의 표현식에서and 연산자가 쓰였는데 수치 값이 모두 0이 아니기 때문에 True값으로 마지막까지 4까지 확인하여 4의 Evaluation값이 True 이므로 4를 출력한다.  "
   ]
  },
  {
   "cell_type": "code",
   "execution_count": 2,
   "metadata": {},
   "outputs": [
    {
     "name": "stdout",
     "output_type": "stream",
     "text": [
      "1\n"
     ]
    }
   ],
   "source": [
    "print (1 or 2 or 3 or 4)"
   ]
  },
  {
   "cell_type": "markdown",
   "metadata": {},
   "source": [
    " - or연산은 피연산자 둘 중 하나가 True일 경우 True값을 반환한다. 파이썬에서 or 연산은 앞쪽 피연산자 부터 확인 하여 Evaluation값이 True이면 결과 값을 출력하고 뒤에 피연산자는 확인하지 않는다. 위의 표현식에서는 전부 or연산이므로 첫번째 수치값 1에 대해 Evaluation하여 결과 값을 출력한다."
   ]
  },
  {
   "cell_type": "code",
   "execution_count": 19,
   "metadata": {},
   "outputs": [
    {
     "name": "stdout",
     "output_type": "stream",
     "text": [
      "2\n"
     ]
    }
   ],
   "source": [
    "print (1 and 2 or 3 and 4)"
   ]
  },
  {
   "cell_type": "markdown",
   "metadata": {},
   "source": [
    " - 위의 표현식은 1 and 2 의 결과 값이 Evaluation 되어서 2(True)가 되고 3 and 4 의 결과 값 Evaluation 되어서 4(True)가 된다. or 연산을 수행하는데 or연산의 첫번째 피연산자가 2(True)이므로 뒤쪽 표현식에 대한 논리 연산을 수행하지 않고 결과 값을 출력한다. "
   ]
  },
  {
   "cell_type": "code",
   "execution_count": 40,
   "metadata": {},
   "outputs": [
    {
     "name": "stdout",
     "output_type": "stream",
     "text": [
      "2\n"
     ]
    }
   ],
   "source": [
    "print ((1 and 2) or (3 and 4))"
   ]
  },
  {
   "cell_type": "markdown",
   "metadata": {},
   "source": [
    " - 위의 표현식에서 ()로 묶여 있는 연산을 먼저 수행한다. (1 and 2)의 Evaluation 결과 값은 2이고, (3 and 4)의 Evaluation결과 값은 4이다. 두 결과에 대해서 or 연산을 하므로 앞쪽 피연자인 2가 True 이므로 2를 결과 값으로 출력한다."
   ]
  },
  {
   "cell_type": "code",
   "execution_count": 41,
   "metadata": {},
   "outputs": [
    {
     "name": "stdout",
     "output_type": "stream",
     "text": [
      "1\n"
     ]
    }
   ],
   "source": [
    "print (1 or 2 and 3 or 4)"
   ]
  },
  {
   "cell_type": "markdown",
   "metadata": {},
   "source": [
    " - 위의 표현식에서 2 and 3 의 Evaluation 결과 값은 3이다.or연산은 앞쪽 피연산자가 True일 경우 뒤쪽 표현식을 확인 하지 않으므로 1 or 3의 결과값인 1을 출력한다."
   ]
  },
  {
   "cell_type": "code",
   "execution_count": 46,
   "metadata": {},
   "outputs": [
    {
     "name": "stdout",
     "output_type": "stream",
     "text": [
      "3\n"
     ]
    }
   ],
   "source": [
    "print ((1 or 2) and (3 or 4))"
   ]
  },
  {
   "cell_type": "markdown",
   "metadata": {},
   "source": [
    " - 위의 표현식에서 ()로 묶여있는 연산이 먼저 수행된다. (1 or 2) Evaluation 결과 값은 1이고, (3 or 4) Evaluation 결과 값은 3이다. 각각을 다시 and 연산의 피연사자로 1 and 3 Evaluation 결과 값은 3이므로 3이 출력된다."
   ]
  },
  {
   "cell_type": "markdown",
   "metadata": {},
   "source": [
    " 2) 경로에 해당하는 문자열 1개를 입력 받아 그 안에 디렉토리 경로명과 파일명을 분리하여 리스트로 반환하는 함수 div_path(s)를 작성하시오.\n",
    "   - 인자로 전달하는 문자열은 경로만 들어간다고 가정한다.\n",
    "   - 각 디렉토리와 파일을 구분하는 문자는 '/'로 가정한다.\n",
    "   - 반환하는 리스트의 첫번째 원소는 디렉토리이고 두번째 원소는 파일명이다.\n",
    "   - 다음과 같은 실행 및 출력 결과가 도출되어야 한다.\n",
    "     - div_path('/usr/local/bin/python')\n",
    "       - ['/usr/local/bin', 'python']\n",
    "     - div_path('/home/chulsoo/test.txt')\n",
    "       - ['/home/chulsoo', 'test.txt']\n",
    "   - [참고] 리스트(l) 내에 새로운 정수값 (예를 들어 10)을 넣는 방법은 l.append(10) 이다.      \n"
   ]
  },
  {
   "cell_type": "code",
   "execution_count": 90,
   "metadata": {},
   "outputs": [
    {
     "name": "stdout",
     "output_type": "stream",
     "text": [
      "['/usr/local/bin', 'python']\n",
      "['/home/chulsoo', 'test.txt']\n"
     ]
    }
   ],
   "source": [
    "def div_path(s) : #함수 정의\n",
    "    index = s.find('/')  # '/'문자가 나오는 첫번째 인덱스를 찾는다\n",
    "    if (index == -1): return -1  # '/'문자가 없을 경우 경로가 아니므로 -1 리턴\n",
    "    while(1) : #무한루프\n",
    "        if(s.find('/',(index+1)) == -1) : break # 다음 '/'문자가 나오는 인덱스를 찾는다. 더 이상 '/'문자가 없는 경우 루프 종료\n",
    "        index = s.find('/', (index+1)) # 다음 '/' 문자 인덱스를 저장\n",
    "    return [s[:index],s[index+1:]]  #경로와 파일로 구분된 리스트 반환 \n",
    "\n",
    "print (div_path('/usr/local/bin/python'))\n",
    "print (div_path('/home/chulsoo/test.txt'))            "
   ]
  },
  {
   "cell_type": "markdown",
   "metadata": {},
   "source": [
    "- 문자열에서 찾고자하는 문자의 인덱스값을 리턴해주는 s.find()활용. 문자열 s의 첫번째 '/'문자를 찾아 경로인지 확인하고 무한루프하여 s의 마지막 '/'문자의 인덱스를 찾아낸다. 루프가 종료하면 '/'문자의 인덱스를 찾았으므로 리스트의 첫번째 원소에는 s의 처음부터 index전까지의 문자열을 파일경로로 하고, 두번째 원소에는 index+1 부터 s의 끝까지의 문자열을 파일명으로 하여 경로와 파일명으로 구분된 리스트를 반환한다.   "
   ]
  },
  {
   "cell_type": "markdown",
   "metadata": {},
   "source": [
    " 3) 두 개의 리스트를 인자로 받아서 그 두 개의 리스트에 대한 '합집합'을 반환하는 함수 list_union(lista, listb)를 작성하시오.\n",
    "   - 인자로 전달하는 리스트 2 개에는 정수값만 들어간다고 가정하자.\n",
    "   - 함수 내에서 새로운 리스트를 만들어 그 리스트 내에 인자로 받은 두 리스트의 모든 원소를 넣어 반환한다.\n",
    "   - 반환하는 리스트에는 절대로 중복된 원소가 들어 있으면 안된다 (집합의 조건).\n",
    "   - 반환하는 리스트는 정렬이 되어 있어야 한다.\n",
    "   - 다음과 같은 실행 및 출력 결과가 도출되어야 한다.\n",
    "     - list_union([1, 2, 3], [1, 2, 4])\n",
    "       - [1, 2, 3, 4]\n",
    "     - list_union([-10, -5, 0, -1], [100, 9, 0, 9])\n",
    "       - [-10, -5, -1, 0, 9, 100]\n",
    "     - list_union([0, 1, 2], [0, 1, 2])\n",
    "       - [0, 1, 2]\n",
    "   - [참고] 리스트(l) 내에 새로운 정수값 (예를 들어 10)을 넣는 방법은 l.append(10) 이다.\n",
    "   - [참고] 임의의 정수값 (x)이 리스트 (l) 내에 존재하는지 판단하는 방법은 x in l 이다."
   ]
  },
  {
   "cell_type": "code",
   "execution_count": 1,
   "metadata": {},
   "outputs": [
    {
     "name": "stdout",
     "output_type": "stream",
     "text": [
      "[1, 2, 3, 4]\n",
      "[-10, -5, -1, 0, 9, 100]\n",
      "[0, 1, 2]\n"
     ]
    }
   ],
   "source": [
    "def list_union(lista ,listb):      #함수 정의\n",
    "    for i in range(len(listb)):    #listb의 원소가 lista에도 중복되는지 확인하여\n",
    "        if (listb[i] in lista) == False : lista.append(listb[i])     #중복되지 않은경우 lista에 listb의 원소를 삽입\n",
    "    lista.sort() #lista 정렬\n",
    "    return lista\n",
    "print (list_union([1,2,3],[1,2,4]))\n",
    "print (list_union([-10,-5,0,-1],[100,9,0,9]))\n",
    "print (list_union([0,1,2],[0,1,2]))"
   ]
  },
  {
   "cell_type": "markdown",
   "metadata": {},
   "source": [
    " - listb의 원소와 같은 정수 값이 lista에 존재하는지 확인하고 중복되지 않은 원소들만 lista에 추가하여 두 리스트를 중복된 원소가 없이 합친다. lista는 아직 정렬되지 않았으므로 sort함수를 이용해 lista를 정렬한다. "
   ]
  },
  {
   "cell_type": "markdown",
   "metadata": {},
   "source": [
    " ### ACM-ICPC 문제\n",
    "\n",
    " 1) [ACM-ICPC 문제 10809번]\n",
    "   - 알파벳 찾기<br>\n",
    " https://www.acmicpc.net/problem/10809\n",
    " - 알파벳 소문자로만 이루어진 단어 S가 주어진다. 각각의 알파벳에 대해서, 단어에 포함되어 있는 경우에는 처음 등장하는 위치를, 포함되어 있지 않은 경우에는 -1을 출력하는 프로그램을 작성하시오.\n",
    " - 입력 : 첫째 줄에 단어 S가 주어진다. 단어의 길이는 100을 넘지 않으며, 알파벳 소문자로만 이루어져 있다.\n",
    " - 출력 : 각각의 알파벳에 대해서, a가 처음 등장하는 위치, b가 처음 등장하는 위치, ... z가 처음 등장하는 위치를 공백으로 구분해서 출력한다.만약, 어떤 알파벳이 단어에 포함되어 있지 않다면 -1을 출력한다. 단어의 첫 번째 글자는 0번째 위치이고, 두 번째 글자는 1번째 위치이다."
   ]
  },
  {
   "cell_type": "code",
   "execution_count": 1,
   "metadata": {},
   "outputs": [
    {
     "name": "stdout",
     "output_type": "stream",
     "text": [
      "baekjoon\n",
      "1 0 -1 -1 2 -1 -1 -1 -1 4 3 -1 -1 7 5 -1 -1 -1 -1 -1 -1 -1 -1 -1 -1 -1 "
     ]
    }
   ],
   "source": [
    "s = input()  #문자열을 입력받는다.\n",
    "for i in range(97,123): #a~z까지의 유니코드값 만큼 반복\n",
    "    print (s.find(chr(i)), end=\" \") #유니코드에 해당하는 알파벳이 등장하는 첫번째 인덱스를 출력"
   ]
  },
  {
   "cell_type": "markdown",
   "metadata": {},
   "source": [
    "![이미지](https://github.com/woooooojin/ScriptProgrammingAssignment2/blob/master/10809.PNG?raw=true)"
   ]
  },
  {
   "cell_type": "markdown",
   "metadata": {},
   "source": [
    " - 이미지URL : https://github.com/woooooojin/ScriptProgrammingAssignment2/blob/master/10809.PNG?raw=true\n",
    "\n",
    "2) [ACM-ICPC 문제 2675번]\n",
    "   - 문자열 반복<br>\n",
    " https://www.acmicpc.net/problem/2675\n",
    " - 문자열 S를 입력받은 후에, 각 문자를 R번 반복해 새 문자열 P를 만든 후 출력하는 프로그램을 작성하시오. 즉, 첫 번째 문자를 R번 반복하고, 두 번째 문자를 R번 반복하는 식으로 P를 만들면 된다. S에는 QR Code \"alphanumeric\" 문자만 들어있다.\n",
    " - 입력 : 첫째 줄에 테스트 케이스의 개수 T(1 ≤ T ≤ 1,000)가 주어진다. 각 테스트 케이스는 반복 횟수 R(1 ≤ R ≤ 8), 문자열 S가 공백으로 구분되어 주어진다. S의 길이는 적어도 1이며, 20글자를 넘지 않는다. \n",
    " - 출력 : 각 테스트 케이스에 대해 P를 출력한다."
   ]
  },
  {
   "cell_type": "code",
   "execution_count": 2,
   "metadata": {},
   "outputs": [
    {
     "name": "stdout",
     "output_type": "stream",
     "text": [
      "2\n",
      "3 ABC\n",
      "AAABBBCCC\n",
      "5 /HTP\n",
      "/////HHHHHTTTTTPPPPP\n"
     ]
    }
   ],
   "source": [
    "case = int(input()) #테스트 수를 문자열로 입력받음\n",
    "\n",
    "for _ in range(int(case)):#테스트 수 만큼 반복\n",
    "    text = \"\" #출력할 문자열 초기화\n",
    "    s = input()  #테스트 케이스 입력\n",
    "    l = s.split() #케이스를 공백 단위 분리\n",
    "    \n",
    "    for ch in l[1]: #문자열 한자리 씩 가져온다\n",
    "        text += (ch*int(l[0])) #문자열 한자리를 반복횟수 만큼 *연산하여 출력할 문자열에 더한다\n",
    "    print (text)    "
   ]
  },
  {
   "cell_type": "markdown",
   "metadata": {},
   "source": [
    "![이미지](https://github.com/woooooojin/ScriptProgrammingAssignment2/blob/master/2675.PNG?raw=true)"
   ]
  },
  {
   "cell_type": "markdown",
   "metadata": {},
   "source": [
    " - 이미지 URL :https://github.com/woooooojin/ScriptProgrammingAssignment2/blob/master/2675.PNG?raw=true\n",
    " \n",
    "  ### Incremental Project 문제\n",
    "\n",
    " 1) 웹 URL로 지정된 웹페이지를 문자열로 가져와 1) 모든 HTML 태그를 제외한 순수 텍스트 문자열만을 걸러내고, 2) 그 순수 텍스트 문자열 안에 존재하는 단어가 총 몇개인지 출력하는 프로그램을 작성하시오.\n",
    "  - HTML 태그는 다음 조건을 가지는 것이다.\n",
    "     - < 로 시작하여 >로 끝난다.\n",
    "     - 예를 들어, 아래와 같은 HTML 내용 내에 한 줄이 있다고 가정하자.\n",
    "     \n",
    "     ```\n",
    "     <label for=\"keep_signed\">로그인 유지</label> \n",
    "     ```\n",
    "     - 위 소스에서 HTML 태그를 제외한 순수 텍스트 문자열은 아래와 같다.\n",
    "     \n",
    "     ```\n",
    "     로그인 유지 \n",
    "     ```\n",
    "     \n",
    "     - 한편, 아래와 같은 HTML 한 줄이 있다고 가정하자.\n",
    "     \n",
    "     ```\n",
    "     <link rel=\"stylesheet\" href=\"/common/css/xe.min.css?20150910092654\" />\n",
    "     ```\n",
    "     \n",
    "        - 위 한 줄은 HTML 태그로만 구성된 것이며 걸러낼 수 있는 순수 텍스 문자열은 존재하지 않는다.\n",
    "     \n",
    "   - 단어를 나누는 기준은 오로지 공백문자 (whitespace)이다.\n",
    "     - 즉, 위 순수 텍스트 문자열인 \"로그인 유지\"에서 분리한 단어는 \"로그인\"과 \"유지\"이다.\n",
    "   - 중복을 고려하지 않고 무조건 모든 단어의 개수를 세어서 출력한다.\n",
    "   - 본 숙제를 위하여 HTML 파싱과 관련된 모듈 (예. BeautifulSoup) 사용 금지\n",
    "   - 다음은 URL로 지정된 웹페이지를 특정 문자열로 가져오는 코드이다. \n",
    "     - 즉, 숙제 코드는 아래 코드로 부터 시작해야 한다.\n",
    "     - 아래 코드 수행시 requests 모듈이 존재하지 않는 에러가 발생하면 command 창에서 다음 코드 입력하여 requests 모듈 설치후 아래 코드 수행\n",
    "         ```\n",
    "     > pip install requests\n",
    "     ```"
   ]
  },
  {
   "cell_type": "code",
   "execution_count": 122,
   "metadata": {},
   "outputs": [],
   "source": [
    "import requests\n",
    "\n",
    "req = requests.get('http://cse.koreatech.ac.kr')\n",
    "\n",
    "source = req.text"
   ]
  },
  {
   "cell_type": "code",
   "execution_count": 101,
   "metadata": {},
   "outputs": [],
   "source": [
    "# 추후 숙제 답안 제출 때엔 아래 코드는 주석처리할 것\n",
    "# print(source)"
   ]
  },
  {
   "cell_type": "code",
   "execution_count": 123,
   "metadata": {},
   "outputs": [
    {
     "name": "stdout",
     "output_type": "stream",
     "text": [
      " 컴퓨터공학부 Schoolfun - Study and Fun 로그인 로그인 아이디 비밀번호 로그인 유지 브라우저를 닫더라도 로그인이 계속 유지될 수 있습니다. 로그인 유지 기능을 사용할 경우 다음 접속부터는 로그인할 필요가 없습니다. 단, 게임방, 학교 등 공공장소에서 이용 시 개인정보가 유출될 수 있으니 꼭 로그아웃을 해주세요. 회원가입 ID/PW 찾기 IT 교육의 글로벌 메카! 한국기술교육대학교 컴퓨터공학부 Close 소개 구성원소개 학사안내 입학                         학부                         대학원                     학부광장 자료실 대학원 공학교육인증 학부서비스                         Registration                                                                       컴퓨터공학부                 School of Computer Science and Engineering                                                         IT 융합소프트웨어 인력양성사업                 CK (Creative Korea)-I                                                         교육역량강화사업 온라인 컨텐츠                 Online Contents for Education Capability Empowerment                                                                                             IT 교육의 글로벌 메카                 한국기술교육대학교 컴퓨터공학부 홈페이지에 오신 것을 환영합니다!                                                                         IT 융합소프트웨어 인력양성사업                 글로벌 수준의 IT전문인력 양성 IT융합분야에 대한 국제적인 경쟁력 고취                 바로가기                                                                         교육역량강화사업 컨텐츠                 교육역량강화사업 온라인 컨텐츠를 소개합니다.                 바로가기                                                 공지사항                                                                                                                 [특성화] G-STAR 2018 전시회 선발 학생 공고                                                                                                                             2018-10-08 17:14 17:14                                                                                                                                             [특성화][신청마감] G-STAR 2018 전시회 학생 모집 공고                                                                                                                             2018-10-08 15:24 15:24                                                                                                                                             [졸업작품] 2018년 졸업작품 설치 부스 배정 안내                                                                                                                             2018-10-08 11:49 11:49                                                                                                                                             [특성화] KES 2018 전시회 학생 선발 공고                                                                                                                             2018-10-08 09:29 09:29                                                                                                                                             [특성화] CHINA HI-TECH FAIR 2018 해외 전시회 참관 ...                                                                                                                             2018-10-04 15:18 15:18                                                                             자유게시판                                                                                                                 졸업작품전시회 기간 헤어/메이크업                                                                                                                             2018-10-07 14:48 14:48                                                                                                                                             ※모의토익비 지원 공지※                                                                                                                             2018-09-28 09:37 09:37                                                                                                                                             ACM-ICPC 예선 신청기간이 얼마 안 남았습니다!                                                                                                                             2018-09-13 11:36 11:36                                                                                                                                             문화행사 취소 공지                                                                                                                             2018-09-10 19:17 19:17                                                                                                                                             &amp;lt;2018학년도 2학기&amp;gt; 사물함 신청을 받겠...                                                                                                                             2018-09-06 13:06 13:06                                                                             취업게시판                                                                                                                 [국가보안기술연구소] 정규직 채용                                                                                                                             2018-10-04 14:18 14:18                                                                                                                                             한글과컴퓨터그룹 2018년 하반기 신입/경력 공채 ~10.10                                                                                                                             2018-09-27 13:13 13:13                                                                                                                                             [구인]천안 충무병원 전산실                                                                                                                             2018-09-18 15:25 15:25                                                                                                                                             [정부교육] K-Shield 주니어 교육생 모집(정보보호) ~9.5                                                                                                                             2018-09-03 07:53 07:53                                                                                                                                             인천] 에이스테크놀로지 연구개발인력 모집 ~ 2018.9.9...                                                                                                                             2018-08-29 09:06 09:06                                                                             Platum                                                                                                                 [10월 15일 스타트업 비즈니스 동향] 블랭크코퍼레이션...                                                                                                                                                                         2018-10-15 17:03 17:03                                                                                                                                                                         암호화폐 거래소 데이빗, 론칭 5일만에 일거래액 1,500...                                                                                                                                                                         2018-10-15 14:20 14:20                                                                                                                                                                         스프린트 프로세스 개발사 ‘시소’, The Edge of 2018 ...                                                                                                                                                                         2018-10-15 11:04 11:04                                                                                                                                                                         반려동물 방문 훈련 서비스 ‘행복하개’ 출시                                                                                                                                                                         2018-10-15 09:47 09:47                                                                                                                                                                         아트투게더, 한국투자파트너스로부터 투자 유치                                                                                                                                                                         2018-10-15 09:44 09:44                                                                                                         전자신문                                                                                                                 [단독]CJ헬로 내달 30일 '레이저폰2' 단독 출시··...                                                                                                                                                                         2018-10-16 00:00 00:00                                                                                                                                             제머나이소프트, 경기도의회 아카이브 시스템 구...                                                                                                                                                                         2018-10-16 00:00 00:00                                                                                                                                             美 백악관, 양자산업 2차보고서 발표···원천기술 ...                                                                                                                                                                         2018-10-15 17:00 17:00                                                                                                                                             SK텔레콤 삼성 5G 상용 장비로 '퍼스트콜' 성공                                                                                                                                                                         2018-10-15 16:59 16:59                                                                                                                                             LG유플러스, U+ 멤버스 400만 돌파                                                                                                                                                                         2018-10-15 16:09 16:09                                                                             TechCrunch                                                                                                                 MIT announces new college of computing with $1...                                                                                                                                                                         2018-10-15 23:54 23:54                                                                                                                                             Casio adds modern tech to the classic G-Shock ...                                                                                                                                                                         2018-10-15 23:41 23:41                                                                                                                                             Zimmer and Apple launch clinical study coverin...                                                                                                                                                                         2018-10-15 23:22 23:22                                                                                                                                             Amazon debuts a retail site for ‘Shark Tank’ p...                                                                                                                                                                         2018-10-15 23:01 23:01                                                                                                                                             Tech Will Save Us offers STEM toys you’ll actu...                                                                                                                                                                         2018-10-15 22:43 22:43                                                                                                                                                     Quick Navigation                                                     한국기술교육대학교 홈페이지                             한국기술교육대학교 WEBMAIL                             한국기술교육대학교 온라인 평생교육원                             IT 융합소프트웨어 인력양성사업                             컴퓨터공학부 교직원 업무 자료실                                                                                                                                                     Campus Location                                                                                                                                     Contact CSE                 충청남도 천안시 동남구 병천면 충절로 1600 한국기술교육대학교 컴퓨터공학부 학과사무실 TEL (041) 560 1460 ~ 1461  FAX (041) 560 1462                                    Facebook                                                                                                 (31253) 충청남도 천안시 동남구 병천면 충절로 1600 (가전리, 한국기술교육대학교) 컴퓨터공학부             Copyright © 2015. All rights reserved             \n"
     ]
    }
   ],
   "source": [
    "text = \"\" #순수 텍스트 식별자\n",
    "while(1) :      \n",
    "    source = source[source.find('<'):] #'<'를 찾는다\n",
    "    if source.find(\"<!--\") == 0 : source = source[source.find(\"-->\")+3:] #주석 내용 건너뜀\n",
    "    elif source.find(\"<script>\") == 0 : source = source[source.find(\"</script>\")+9:] #자바스크립트 내용 건너뜀   \n",
    "    else :\n",
    "        source = source[source.find('>')+1:] #'>'를 찾는다\n",
    "        for ch in source :    #'>' 이후부터 한글자씩 가져온다\n",
    "            if ch == '<' : break    # 다시 '<' 문자 등장하면 종료\n",
    "            elif ch == '\\t' or ch == '\\n' : continue    #탭,개행 문자는 순수 텍스트에 포함x\n",
    "            else : text += ch   #순수 텍스트 추가     \n",
    "        if text.endswith(\" \") == False : text += \" \" #공백으로 분리하기 위해 순수 텍스트 추출 후 뒤에 공백문자 추가\n",
    "    if(source.find('<') == -1):break #'<' 문자가 더 이상 없는 경우 무한루프종료 \n",
    "\n",
    "print(text)   "
   ]
  },
  {
   "cell_type": "code",
   "execution_count": 124,
   "metadata": {},
   "outputs": [
    {
     "name": "stdout",
     "output_type": "stream",
     "text": [
      "['컴퓨터공학부', 'Schoolfun', '-', 'Study', 'and', 'Fun', '로그인', '로그인', '아이디', '비밀번호', '로그인', '유지', '브라우저를', '닫더라도', '로그인이', '계속', '유지될', '수', '있습니다.', '로그인', '유지', '기능을', '사용할', '경우', '다음', '접속부터는', '로그인할', '필요가', '없습니다.', '단,', '게임방,', '학교', '등', '공공장소에서', '이용', '시', '개인정보가', '유출될', '수', '있으니', '꼭', '로그아웃을', '해주세요.', '회원가입', 'ID/PW', '찾기', 'IT', '교육의', '글로벌', '메카!', '한국기술교육대학교', '컴퓨터공학부', 'Close', '소개', '구성원소개', '학사안내', '입학', '학부', '대학원', '학부광장', '자료실', '대학원', '공학교육인증', '학부서비스', 'Registration', '컴퓨터공학부', 'School', 'of', 'Computer', 'Science', 'and', 'Engineering', 'IT', '융합소프트웨어', '인력양성사업', 'CK', '(Creative', 'Korea)-I', '교육역량강화사업', '온라인', '컨텐츠', 'Online', 'Contents', 'for', 'Education', 'Capability', 'Empowerment', 'IT', '교육의', '글로벌', '메카', '한국기술교육대학교', '컴퓨터공학부', '홈페이지에', '오신', '것을', '환영합니다!', 'IT', '융합소프트웨어', '인력양성사업', '글로벌', '수준의', 'IT전문인력', '양성', 'IT융합분야에', '대한', '국제적인', '경쟁력', '고취', '바로가기', '교육역량강화사업', '컨텐츠', '교육역량강화사업', '온라인', '컨텐츠를', '소개합니다.', '바로가기', '공지사항', '[특성화]', 'G-STAR', '2018', '전시회', '선발', '학생', '공고', '2018-10-08', '17:14', '17:14', '[특성화][신청마감]', 'G-STAR', '2018', '전시회', '학생', '모집', '공고', '2018-10-08', '15:24', '15:24', '[졸업작품]', '2018년', '졸업작품', '설치', '부스', '배정', '안내', '2018-10-08', '11:49', '11:49', '[특성화]', 'KES', '2018', '전시회', '학생', '선발', '공고', '2018-10-08', '09:29', '09:29', '[특성화]', 'CHINA', 'HI-TECH', 'FAIR', '2018', '해외', '전시회', '참관', '...', '2018-10-04', '15:18', '15:18', '자유게시판', '졸업작품전시회', '기간', '헤어/메이크업', '2018-10-07', '14:48', '14:48', '※모의토익비', '지원', '공지※', '2018-09-28', '09:37', '09:37', 'ACM-ICPC', '예선', '신청기간이', '얼마', '안', '남았습니다!', '2018-09-13', '11:36', '11:36', '문화행사', '취소', '공지', '2018-09-10', '19:17', '19:17', '&amp;lt;2018학년도', '2학기&amp;gt;', '사물함', '신청을', '받겠...', '2018-09-06', '13:06', '13:06', '취업게시판', '[국가보안기술연구소]', '정규직', '채용', '2018-10-04', '14:18', '14:18', '한글과컴퓨터그룹', '2018년', '하반기', '신입/경력', '공채', '~10.10', '2018-09-27', '13:13', '13:13', '[구인]천안', '충무병원', '전산실', '2018-09-18', '15:25', '15:25', '[정부교육]', 'K-Shield', '주니어', '교육생', '모집(정보보호)', '~9.5', '2018-09-03', '07:53', '07:53', '인천]', '에이스테크놀로지', '연구개발인력', '모집', '~', '2018.9.9...', '2018-08-29', '09:06', '09:06', 'Platum', '[10월', '15일', '스타트업', '비즈니스', '동향]', '블랭크코퍼레이션...', '2018-10-15', '17:03', '17:03', '암호화폐', '거래소', '데이빗,', '론칭', '5일만에', '일거래액', '1,500...', '2018-10-15', '14:20', '14:20', '스프린트', '프로세스', '개발사', '‘시소’,', 'The', 'Edge', 'of', '2018', '...', '2018-10-15', '11:04', '11:04', '반려동물', '방문', '훈련', '서비스', '‘행복하개’', '출시', '2018-10-15', '09:47', '09:47', '아트투게더,', '한국투자파트너스로부터', '투자', '유치', '2018-10-15', '09:44', '09:44', '전자신문', '[단독]CJ헬로', '내달', '30일', \"'레이저폰2'\", '단독', '출시··...', '2018-10-16', '00:00', '00:00', '제머나이소프트,', '경기도의회', '아카이브', '시스템', '구...', '2018-10-16', '00:00', '00:00', '美', '백악관,', '양자산업', '2차보고서', '발표···원천기술', '...', '2018-10-15', '17:00', '17:00', 'SK텔레콤', '삼성', '5G', '상용', '장비로', \"'퍼스트콜'\", '성공', '2018-10-15', '16:59', '16:59', 'LG유플러스,', 'U+', '멤버스', '400만', '돌파', '2018-10-15', '16:09', '16:09', 'TechCrunch', 'MIT', 'announces', 'new', 'college', 'of', 'computing', 'with', '$1...', '2018-10-15', '23:54', '23:54', 'Casio', 'adds', 'modern', 'tech', 'to', 'the', 'classic', 'G-Shock', '...', '2018-10-15', '23:41', '23:41', 'Zimmer', 'and', 'Apple', 'launch', 'clinical', 'study', 'coverin...', '2018-10-15', '23:22', '23:22', 'Amazon', 'debuts', 'a', 'retail', 'site', 'for', '‘Shark', 'Tank’', 'p...', '2018-10-15', '23:01', '23:01', 'Tech', 'Will', 'Save', 'Us', 'offers', 'STEM', 'toys', 'you’ll', 'actu...', '2018-10-15', '22:43', '22:43', 'Quick', 'Navigation', '한국기술교육대학교', '홈페이지', '한국기술교육대학교', 'WEBMAIL', '한국기술교육대학교', '온라인', '평생교육원', 'IT', '융합소프트웨어', '인력양성사업', '컴퓨터공학부', '교직원', '업무', '자료실', 'Campus', 'Location', 'Contact', 'CSE', '충청남도', '천안시', '동남구', '병천면', '충절로', '1600', '한국기술교육대학교', '컴퓨터공학부', '학과사무실', 'TEL', '(041)', '560', '1460', '~', '1461', 'FAX', '(041)', '560', '1462', 'Facebook', '(31253)', '충청남도', '천안시', '동남구', '병천면', '충절로', '1600', '(가전리,', '한국기술교육대학교)', '컴퓨터공학부', 'Copyright', '©', '2015.', 'All', 'rights', 'reserved']\n"
     ]
    }
   ],
   "source": [
    "list = text.split() #추출한 순수 텍스트 문자열을 공백 단위로 분리\n",
    "print (list)"
   ]
  },
  {
   "cell_type": "code",
   "execution_count": 125,
   "metadata": {},
   "outputs": [
    {
     "name": "stdout",
     "output_type": "stream",
     "text": [
      "453\n"
     ]
    }
   ],
   "source": [
    "print (len(list)) #분리된 단어 수 출력"
   ]
  },
  {
   "cell_type": "markdown",
   "metadata": {},
   "source": [
    "- HTML문서에서 주석(<!-- -->)안의 내용과 자바스크립트(<script>~</script>)안의 내용은 웹페이지에서 보여지는 순수 텍스트가 아니므로 주석 종료문자 또는 자바스크립트 종료 태그까지 문자열을 슬라이싱하여 제외한다. '<'문자를 찾고 주석, 자바스크립트 태그가 아닌 경우 순수 텍스트가 존재할 수 있으므로 슬라이싱하여 '>' 이후부터 문자를 추출한다. 문자를 추출할 때 \\t, \\n문자는 의미가 없으므로 제외하고 순수 텍스트만 추출, 다시 종료태그가 등장하는 '<'문자인 경우 추출을 종료한다. 순수 텍스트 추출 후에 문자열을 공백단위로 분리하기 위해 공백문자를 추가한다. 추출한 순수 텍스트 문자열은 공백 단위로 분리되어 있으므로 split()함수를 이용해 공백 단위로 분리하고, 분리된 단어가 저장된 리스트의 길이를 출력한다."
   ]
  },
  {
   "cell_type": "markdown",
   "metadata": {},
   "source": [
    "### [소감]\n",
    "\n",
    " - 이번 과제를 수행하면서 파이썬이 다른 언어와는 다른 코딩 스타일 하게 된다는 것을 느끼게 되었습니다. c나 java에 익숙하게 코딩을 하다보니 처음 과제를 수행하는데 코딩 내용이 길어지는 것을 느끼고 무언가 이상함을 느껴 파이썬 문법에 대해서 다시 공부하고 다시 코딩을 해보니 훨씬 간결하고 간단하게 코딩할 수 있음을 알게 되었습니다. 또한 마지막 문제를 해결하면서 웹크롤링하는 원리를 이해할 수 있었습니다. 수집한 HTML문서를 내가 원하는데로 파싱하는 과정을 해보면서 웹상에 존재하는 빅데이터를 크롤링해서 분석하는 과정에 대해서도 관심을 갖게 되었습니다. "
   ]
  }
 ],
 "metadata": {
  "kernelspec": {
   "display_name": "Python 3",
   "language": "python",
   "name": "python3"
  },
  "language_info": {
   "codemirror_mode": {
    "name": "ipython",
    "version": 3
   },
   "file_extension": ".py",
   "mimetype": "text/x-python",
   "name": "python",
   "nbconvert_exporter": "python",
   "pygments_lexer": "ipython3",
   "version": "3.6.5"
  }
 },
 "nbformat": 4,
 "nbformat_minor": 2
}
